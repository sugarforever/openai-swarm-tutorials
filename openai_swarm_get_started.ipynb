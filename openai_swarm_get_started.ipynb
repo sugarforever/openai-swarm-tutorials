{
  "nbformat": 4,
  "nbformat_minor": 0,
  "metadata": {
    "colab": {
      "provenance": [],
      "authorship_tag": "ABX9TyOsrAGopSaYGzQMH0YIdYgY",
      "include_colab_link": true
    },
    "kernelspec": {
      "name": "python3",
      "display_name": "Python 3"
    },
    "language_info": {
      "name": "python"
    }
  },
  "cells": [
    {
      "cell_type": "markdown",
      "metadata": {
        "id": "view-in-github",
        "colab_type": "text"
      },
      "source": [
        "<a href=\"https://colab.research.google.com/github/sugarforever/openai-swarm-tutorials/blob/main/openai_swarm_get_started.ipynb\" target=\"_parent\"><img src=\"https://colab.research.google.com/assets/colab-badge.svg\" alt=\"Open In Colab\"/></a>"
      ]
    },
    {
      "cell_type": "markdown",
      "source": [
        "# OpenAI Swarm Get Started\n",
        "\n",
        "OpenAI Swarm is an educational framework exploring ergonomic, lightweight multi-agent orchestration. It's managed by OpenAI Solution team.\n",
        "\n",
        "GitHub: https://github.com/openai/swarm\n",
        "\n",
        "In this get-started tutorial, we will showcase how multi-agents are coordinated by Swarm, and walk you through the basic components:\n",
        "- Swarm client\n",
        "- Agents\n",
        "- Functions\n",
        "  - Basics\n",
        "  - Schema\n",
        "\n",
        "## What is AI Agent?\n",
        "\n",
        "AI agents are autonomous intelligent systems performing specific tasks without human intervention."
      ],
      "metadata": {
        "id": "_zIxvC_-DQPl"
      }
    },
    {
      "cell_type": "markdown",
      "source": [
        "## Overview\n",
        "\n",
        "Let's take a quick overview with some examples on Swarm usage."
      ],
      "metadata": {
        "id": "g9bdZ6HrEXEB"
      }
    },
    {
      "cell_type": "code",
      "execution_count": 38,
      "metadata": {
        "id": "lvqYVHrTumH1",
        "colab": {
          "base_uri": "https://localhost:8080/"
        },
        "outputId": "19c96c49-e247-4727-af9e-9ecdc7945bd0"
      },
      "outputs": [
        {
          "output_type": "stream",
          "name": "stdout",
          "text": [
            "Collecting git+https://github.com/openai/swarm.git\n",
            "  Cloning https://github.com/openai/swarm.git to /tmp/pip-req-build-akbqp876\n",
            "  Running command git clone --filter=blob:none --quiet https://github.com/openai/swarm.git /tmp/pip-req-build-akbqp876\n",
            "  Resolved https://github.com/openai/swarm.git to commit 9db581cecaacea0d46a933d6453c312b034dbf47\n",
            "  Installing build dependencies ... \u001b[?25l\u001b[?25hdone\n",
            "  Getting requirements to build wheel ... \u001b[?25l\u001b[?25hdone\n",
            "  Preparing metadata (pyproject.toml) ... \u001b[?25l\u001b[?25hdone\n",
            "Requirement already satisfied: numpy in /usr/local/lib/python3.10/dist-packages (from swarm==0.1.0) (1.26.4)\n",
            "Requirement already satisfied: openai>=1.33.0 in /usr/local/lib/python3.10/dist-packages (from swarm==0.1.0) (1.52.0)\n",
            "Requirement already satisfied: pytest in /usr/local/lib/python3.10/dist-packages (from swarm==0.1.0) (7.4.4)\n",
            "Requirement already satisfied: requests in /usr/local/lib/python3.10/dist-packages (from swarm==0.1.0) (2.32.3)\n",
            "Requirement already satisfied: tqdm in /usr/local/lib/python3.10/dist-packages (from swarm==0.1.0) (4.66.5)\n",
            "Requirement already satisfied: pre-commit in /usr/local/lib/python3.10/dist-packages (from swarm==0.1.0) (4.0.1)\n",
            "Requirement already satisfied: instructor in /usr/local/lib/python3.10/dist-packages (from swarm==0.1.0) (1.6.3)\n",
            "Requirement already satisfied: anyio<5,>=3.5.0 in /usr/local/lib/python3.10/dist-packages (from openai>=1.33.0->swarm==0.1.0) (3.7.1)\n",
            "Requirement already satisfied: distro<2,>=1.7.0 in /usr/lib/python3/dist-packages (from openai>=1.33.0->swarm==0.1.0) (1.7.0)\n",
            "Requirement already satisfied: httpx<1,>=0.23.0 in /usr/local/lib/python3.10/dist-packages (from openai>=1.33.0->swarm==0.1.0) (0.27.2)\n",
            "Requirement already satisfied: jiter<1,>=0.4.0 in /usr/local/lib/python3.10/dist-packages (from openai>=1.33.0->swarm==0.1.0) (0.5.0)\n",
            "Requirement already satisfied: pydantic<3,>=1.9.0 in /usr/local/lib/python3.10/dist-packages (from openai>=1.33.0->swarm==0.1.0) (2.9.2)\n",
            "Requirement already satisfied: sniffio in /usr/local/lib/python3.10/dist-packages (from openai>=1.33.0->swarm==0.1.0) (1.3.1)\n",
            "Requirement already satisfied: typing-extensions<5,>=4.11 in /usr/local/lib/python3.10/dist-packages (from openai>=1.33.0->swarm==0.1.0) (4.12.2)\n",
            "Requirement already satisfied: aiohttp<4.0.0,>=3.9.1 in /usr/local/lib/python3.10/dist-packages (from instructor->swarm==0.1.0) (3.10.10)\n",
            "Requirement already satisfied: docstring-parser<0.17,>=0.16 in /usr/local/lib/python3.10/dist-packages (from instructor->swarm==0.1.0) (0.16)\n",
            "Requirement already satisfied: jinja2<4.0.0,>=3.1.4 in /usr/local/lib/python3.10/dist-packages (from instructor->swarm==0.1.0) (3.1.4)\n",
            "Requirement already satisfied: pydantic-core<3.0.0,>=2.18.0 in /usr/local/lib/python3.10/dist-packages (from instructor->swarm==0.1.0) (2.23.4)\n",
            "Requirement already satisfied: rich<14.0.0,>=13.7.0 in /usr/local/lib/python3.10/dist-packages (from instructor->swarm==0.1.0) (13.9.2)\n",
            "Requirement already satisfied: tenacity<10.0.0,>=9.0.0 in /usr/local/lib/python3.10/dist-packages (from instructor->swarm==0.1.0) (9.0.0)\n",
            "Requirement already satisfied: typer<1.0.0,>=0.9.0 in /usr/local/lib/python3.10/dist-packages (from instructor->swarm==0.1.0) (0.12.5)\n",
            "Requirement already satisfied: cfgv>=2.0.0 in /usr/local/lib/python3.10/dist-packages (from pre-commit->swarm==0.1.0) (3.4.0)\n",
            "Requirement already satisfied: identify>=1.0.0 in /usr/local/lib/python3.10/dist-packages (from pre-commit->swarm==0.1.0) (2.6.1)\n",
            "Requirement already satisfied: nodeenv>=0.11.1 in /usr/local/lib/python3.10/dist-packages (from pre-commit->swarm==0.1.0) (1.9.1)\n",
            "Requirement already satisfied: pyyaml>=5.1 in /usr/local/lib/python3.10/dist-packages (from pre-commit->swarm==0.1.0) (6.0.2)\n",
            "Requirement already satisfied: virtualenv>=20.10.0 in /usr/local/lib/python3.10/dist-packages (from pre-commit->swarm==0.1.0) (20.27.0)\n",
            "Requirement already satisfied: iniconfig in /usr/local/lib/python3.10/dist-packages (from pytest->swarm==0.1.0) (2.0.0)\n",
            "Requirement already satisfied: packaging in /usr/local/lib/python3.10/dist-packages (from pytest->swarm==0.1.0) (24.1)\n",
            "Requirement already satisfied: pluggy<2.0,>=0.12 in /usr/local/lib/python3.10/dist-packages (from pytest->swarm==0.1.0) (1.5.0)\n",
            "Requirement already satisfied: exceptiongroup>=1.0.0rc8 in /usr/local/lib/python3.10/dist-packages (from pytest->swarm==0.1.0) (1.2.2)\n",
            "Requirement already satisfied: tomli>=1.0.0 in /usr/local/lib/python3.10/dist-packages (from pytest->swarm==0.1.0) (2.0.2)\n",
            "Requirement already satisfied: charset-normalizer<4,>=2 in /usr/local/lib/python3.10/dist-packages (from requests->swarm==0.1.0) (3.4.0)\n",
            "Requirement already satisfied: idna<4,>=2.5 in /usr/local/lib/python3.10/dist-packages (from requests->swarm==0.1.0) (3.10)\n",
            "Requirement already satisfied: urllib3<3,>=1.21.1 in /usr/local/lib/python3.10/dist-packages (from requests->swarm==0.1.0) (2.2.3)\n",
            "Requirement already satisfied: certifi>=2017.4.17 in /usr/local/lib/python3.10/dist-packages (from requests->swarm==0.1.0) (2024.8.30)\n",
            "Requirement already satisfied: aiohappyeyeballs>=2.3.0 in /usr/local/lib/python3.10/dist-packages (from aiohttp<4.0.0,>=3.9.1->instructor->swarm==0.1.0) (2.4.3)\n",
            "Requirement already satisfied: aiosignal>=1.1.2 in /usr/local/lib/python3.10/dist-packages (from aiohttp<4.0.0,>=3.9.1->instructor->swarm==0.1.0) (1.3.1)\n",
            "Requirement already satisfied: attrs>=17.3.0 in /usr/local/lib/python3.10/dist-packages (from aiohttp<4.0.0,>=3.9.1->instructor->swarm==0.1.0) (24.2.0)\n",
            "Requirement already satisfied: frozenlist>=1.1.1 in /usr/local/lib/python3.10/dist-packages (from aiohttp<4.0.0,>=3.9.1->instructor->swarm==0.1.0) (1.4.1)\n",
            "Requirement already satisfied: multidict<7.0,>=4.5 in /usr/local/lib/python3.10/dist-packages (from aiohttp<4.0.0,>=3.9.1->instructor->swarm==0.1.0) (6.1.0)\n",
            "Requirement already satisfied: yarl<2.0,>=1.12.0 in /usr/local/lib/python3.10/dist-packages (from aiohttp<4.0.0,>=3.9.1->instructor->swarm==0.1.0) (1.15.2)\n",
            "Requirement already satisfied: async-timeout<5.0,>=4.0 in /usr/local/lib/python3.10/dist-packages (from aiohttp<4.0.0,>=3.9.1->instructor->swarm==0.1.0) (4.0.3)\n",
            "Requirement already satisfied: httpcore==1.* in /usr/local/lib/python3.10/dist-packages (from httpx<1,>=0.23.0->openai>=1.33.0->swarm==0.1.0) (1.0.6)\n",
            "Requirement already satisfied: h11<0.15,>=0.13 in /usr/local/lib/python3.10/dist-packages (from httpcore==1.*->httpx<1,>=0.23.0->openai>=1.33.0->swarm==0.1.0) (0.14.0)\n",
            "Requirement already satisfied: MarkupSafe>=2.0 in /usr/local/lib/python3.10/dist-packages (from jinja2<4.0.0,>=3.1.4->instructor->swarm==0.1.0) (3.0.1)\n",
            "Requirement already satisfied: annotated-types>=0.6.0 in /usr/local/lib/python3.10/dist-packages (from pydantic<3,>=1.9.0->openai>=1.33.0->swarm==0.1.0) (0.7.0)\n",
            "Requirement already satisfied: markdown-it-py>=2.2.0 in /usr/local/lib/python3.10/dist-packages (from rich<14.0.0,>=13.7.0->instructor->swarm==0.1.0) (3.0.0)\n",
            "Requirement already satisfied: pygments<3.0.0,>=2.13.0 in /usr/local/lib/python3.10/dist-packages (from rich<14.0.0,>=13.7.0->instructor->swarm==0.1.0) (2.18.0)\n",
            "Requirement already satisfied: click>=8.0.0 in /usr/local/lib/python3.10/dist-packages (from typer<1.0.0,>=0.9.0->instructor->swarm==0.1.0) (8.1.7)\n",
            "Requirement already satisfied: shellingham>=1.3.0 in /usr/local/lib/python3.10/dist-packages (from typer<1.0.0,>=0.9.0->instructor->swarm==0.1.0) (1.5.4)\n",
            "Requirement already satisfied: distlib<1,>=0.3.7 in /usr/local/lib/python3.10/dist-packages (from virtualenv>=20.10.0->pre-commit->swarm==0.1.0) (0.3.9)\n",
            "Requirement already satisfied: filelock<4,>=3.12.2 in /usr/local/lib/python3.10/dist-packages (from virtualenv>=20.10.0->pre-commit->swarm==0.1.0) (3.16.1)\n",
            "Requirement already satisfied: platformdirs<5,>=3.9.1 in /usr/local/lib/python3.10/dist-packages (from virtualenv>=20.10.0->pre-commit->swarm==0.1.0) (4.3.6)\n",
            "Requirement already satisfied: mdurl~=0.1 in /usr/local/lib/python3.10/dist-packages (from markdown-it-py>=2.2.0->rich<14.0.0,>=13.7.0->instructor->swarm==0.1.0) (0.1.2)\n",
            "Requirement already satisfied: propcache>=0.2.0 in /usr/local/lib/python3.10/dist-packages (from yarl<2.0,>=1.12.0->aiohttp<4.0.0,>=3.9.1->instructor->swarm==0.1.0) (0.2.0)\n"
          ]
        }
      ],
      "source": [
        "!pip install git+https://github.com/openai/swarm.git"
      ]
    },
    {
      "cell_type": "markdown",
      "source": [
        "### Set up OpenAI execution environment\n",
        "\n",
        "Retrieve API key from Google Colab secrets and inject into enviroment variables"
      ],
      "metadata": {
        "id": "VR3yfpR1viZe"
      }
    },
    {
      "cell_type": "code",
      "source": [
        "import os\n",
        "from google.colab import userdata\n",
        "\n",
        "os.environ[\"OPENAI_API_KEY\"] = userdata.get('OPENAI_API_KEY')"
      ],
      "metadata": {
        "id": "1zP9k8SPvh8w"
      },
      "execution_count": null,
      "outputs": []
    },
    {
      "cell_type": "markdown",
      "source": [
        "### A Basic Example\n",
        "\n",
        "Let's see how 2 agents are coordinated."
      ],
      "metadata": {
        "id": "buHcRSvP1o8b"
      }
    },
    {
      "cell_type": "code",
      "source": [
        "from swarm import Swarm, Agent\n",
        "\n",
        "client = Swarm()"
      ],
      "metadata": {
        "id": "S5ZJtLIavWD6"
      },
      "execution_count": 45,
      "outputs": []
    },
    {
      "cell_type": "code",
      "source": [
        "def transfer_to_agent_b():\n",
        "    return agent_b\n",
        "\n",
        "\n",
        "agent_a = Agent(\n",
        "    name=\"Agent A\",\n",
        "    instructions=\"You are a helpful agent.\",\n",
        "    functions=[transfer_to_agent_b],\n",
        ")\n",
        "\n",
        "agent_b = Agent(\n",
        "    name=\"Agent B\",\n",
        "    instructions=\"Only speak in Chinese.\",\n",
        ")"
      ],
      "metadata": {
        "id": "1Jg8qguQvX4T"
      },
      "execution_count": 46,
      "outputs": []
    },
    {
      "cell_type": "code",
      "source": [
        "response = client.run(\n",
        "    agent=agent_a,\n",
        "    messages=[{\"role\": \"user\", \"content\": \"I want to talk to agent B.\"}],\n",
        ")"
      ],
      "metadata": {
        "id": "bGq6KZ3Dvbvr"
      },
      "execution_count": 47,
      "outputs": []
    },
    {
      "cell_type": "code",
      "source": [
        "response.messages"
      ],
      "metadata": {
        "id": "b4pXeaZIvdZC",
        "colab": {
          "base_uri": "https://localhost:8080/"
        },
        "outputId": "231aaa72-1b0a-4b29-c357-d089a95653b3"
      },
      "execution_count": 48,
      "outputs": [
        {
          "output_type": "execute_result",
          "data": {
            "text/plain": [
              "[{'content': None,\n",
              "  'refusal': None,\n",
              "  'role': 'assistant',\n",
              "  'audio': None,\n",
              "  'function_call': None,\n",
              "  'tool_calls': [{'id': 'call_Oep2ErkZAlQyo0GVlJrWu8SM',\n",
              "    'function': {'arguments': '{}', 'name': 'transfer_to_agent_b'},\n",
              "    'type': 'function'}],\n",
              "  'sender': 'Agent A'},\n",
              " {'role': 'tool',\n",
              "  'tool_call_id': 'call_Oep2ErkZAlQyo0GVlJrWu8SM',\n",
              "  'tool_name': 'transfer_to_agent_b',\n",
              "  'content': '{\"assistant\": \"Agent B\"}'},\n",
              " {'content': '抱歉，我无法连接到另一个代理。如果有任何问题或需要帮助，请告诉我，我会尽力协助你。',\n",
              "  'refusal': None,\n",
              "  'role': 'assistant',\n",
              "  'audio': None,\n",
              "  'function_call': None,\n",
              "  'tool_calls': None,\n",
              "  'sender': 'Agent B'}]"
            ]
          },
          "metadata": {},
          "execution_count": 48
        }
      ]
    },
    {
      "cell_type": "code",
      "source": [
        "response.messages[-1][\"content\"]"
      ],
      "metadata": {
        "id": "DHXjmp821VMZ",
        "colab": {
          "base_uri": "https://localhost:8080/",
          "height": 36
        },
        "outputId": "f3a7dd9d-e7dc-4152-8bce-08d2472ae217"
      },
      "execution_count": 44,
      "outputs": [
        {
          "output_type": "execute_result",
          "data": {
            "text/plain": [
              "'对不起，我不能直接将您转接到另一位助手，但您可以告诉我需要帮助的具体问题，我会尽力帮助您。'"
            ],
            "application/vnd.google.colaboratory.intrinsic+json": {
              "type": "string"
            }
          },
          "metadata": {},
          "execution_count": 44
        }
      ]
    },
    {
      "cell_type": "markdown",
      "source": [
        "### Example 2 - Weather Agent\n",
        "\n",
        "It's based on one of the examples OpenAI Swarm published - https://github.com/openai/swarm/tree/main/examples/weather_agent"
      ],
      "metadata": {
        "id": "IjVUNgnk10OJ"
      }
    },
    {
      "cell_type": "code",
      "source": [
        "import json\n",
        "\n",
        "def get_weather(location, time=\"now\"):\n",
        "    \"\"\"Get the current weather in a given location. Location MUST be a city.\"\"\"\n",
        "    return json.dumps({\"location\": location, \"temperature\": \"65\", \"time\": time})\n",
        "\n",
        "\n",
        "def send_email(recipient, subject, body):\n",
        "    print(\"Sending email...\")\n",
        "    print(f\"To: {recipient}\")\n",
        "    print(f\"Subject: {subject}\")\n",
        "    print(f\"Body: {body}\")\n",
        "    return \"Sent!\"\n",
        "\n",
        "\n",
        "weather_agent = Agent(\n",
        "    name=\"Weather Agent\",\n",
        "    instructions=\"You are a helpful agent.\",\n",
        "    functions=[get_weather, send_email],\n",
        ")"
      ],
      "metadata": {
        "id": "XZ1ikTHa2Jkt"
      },
      "execution_count": null,
      "outputs": []
    },
    {
      "cell_type": "code",
      "source": [
        "response = client.run(\n",
        "    agent=weather_agent,\n",
        "    messages=[{\"role\": \"user\", \"content\": \"Send me the weather in Beijing today.\"}],\n",
        ")"
      ],
      "metadata": {
        "id": "nSKX2kMV2oIE"
      },
      "execution_count": 49,
      "outputs": []
    },
    {
      "cell_type": "code",
      "source": [
        "response.messages"
      ],
      "metadata": {
        "id": "TiauwOTn29Qd",
        "colab": {
          "base_uri": "https://localhost:8080/"
        },
        "outputId": "0da58b48-335c-4842-b829-7c955e4bf994"
      },
      "execution_count": 50,
      "outputs": [
        {
          "output_type": "execute_result",
          "data": {
            "text/plain": [
              "[{'content': None,\n",
              "  'refusal': None,\n",
              "  'role': 'assistant',\n",
              "  'audio': None,\n",
              "  'function_call': None,\n",
              "  'tool_calls': [{'id': 'call_yGlAzBk4xGqi3w5MIcQsPBSn',\n",
              "    'function': {'arguments': '{\"location\":\"Beijing\"}', 'name': 'get_weather'},\n",
              "    'type': 'function'}],\n",
              "  'sender': 'Weather Agent'},\n",
              " {'role': 'tool',\n",
              "  'tool_call_id': 'call_yGlAzBk4xGqi3w5MIcQsPBSn',\n",
              "  'tool_name': 'get_weather',\n",
              "  'content': '{\"location\": \"Beijing\", \"temperature\": \"65\", \"time\": \"now\"}'},\n",
              " {'content': 'The current temperature in Beijing is 65°F.',\n",
              "  'refusal': None,\n",
              "  'role': 'assistant',\n",
              "  'audio': None,\n",
              "  'function_call': None,\n",
              "  'tool_calls': None,\n",
              "  'sender': 'Weather Agent'}]"
            ]
          },
          "metadata": {},
          "execution_count": 50
        }
      ]
    },
    {
      "cell_type": "markdown",
      "source": [
        "## Components Introduction"
      ],
      "metadata": {
        "id": "AAgqmo12Ekks"
      }
    },
    {
      "cell_type": "markdown",
      "source": [
        "### Swarm Client\n",
        "\n",
        "Swarm client internally just instantiates an OpenAI client."
      ],
      "metadata": {
        "id": "Upq59ULpEp-T"
      }
    },
    {
      "cell_type": "code",
      "source": [
        "from swarm import Swarm\n",
        "from openai import OpenAI\n",
        "\n",
        "client = OpenAI(\n",
        "    api_key=os.environ[\"OPENAI_API_KEY\"],\n",
        "    base_url=\"https://api.openai.com/v1\"\n",
        ")\n",
        "\n",
        "swarm = Swarm(client=client)"
      ],
      "metadata": {
        "id": "Z5Z4HkoqE_-p"
      },
      "execution_count": 51,
      "outputs": []
    },
    {
      "cell_type": "markdown",
      "source": [
        "### Agents\n",
        "\n",
        "An Agent encapsulates a set of instructions with a set of functions (plus some additional settings below), and has the capability to hand off execution to another Agent."
      ],
      "metadata": {
        "id": "TXqfqWjJEs3l"
      }
    },
    {
      "cell_type": "code",
      "source": [
        "def instructions(context_variables):\n",
        "   user_name = context_variables[\"user_name\"]\n",
        "   return f\"You are the receptionist of company Tesla. {user_name} is coming to your reception. You should welcome with its name.\"\n",
        "\n",
        "agent = Agent(instructions=instructions)"
      ],
      "metadata": {
        "id": "mfetx01XFvBK"
      },
      "execution_count": 54,
      "outputs": []
    },
    {
      "cell_type": "markdown",
      "source": [
        "Swarm client runs with the agent."
      ],
      "metadata": {
        "id": "vywRKKeQF2FE"
      }
    },
    {
      "cell_type": "code",
      "source": [
        "response = swarm.run(\n",
        "    agent=agent,\n",
        "    messages=[{\"role\":\"user\", \"content\": \"Hi!\"}],\n",
        "    context_variables={\n",
        "        \"user_name\":\"VerySmallWoods\"\n",
        "    }\n",
        ")\n",
        "print(response.messages[-1][\"content\"])"
      ],
      "metadata": {
        "id": "vIPa8uRdF5jI",
        "colab": {
          "base_uri": "https://localhost:8080/"
        },
        "outputId": "5d0fcf32-887e-4970-ab17-3e9291e6c3cd"
      },
      "execution_count": 55,
      "outputs": [
        {
          "output_type": "stream",
          "name": "stdout",
          "text": [
            "Hello, VerySmallWoods! Welcome to Tesla. How can I assist you today?\n"
          ]
        }
      ]
    },
    {
      "cell_type": "markdown",
      "source": [
        "### Functions\n",
        "\n",
        "The functions called by Swarm Agents should usually return a str (values will be attempted to be cast as a str), or an Agent.\n",
        "\n",
        "When an Agent is returned, the execution will be transferred to that one.\n",
        "\n",
        "If a function defines a context_variables parameter, it will be populated by the context_variables passed into\n",
        "`client.run()`.\n"
      ],
      "metadata": {
        "id": "DThMZEyJEvGK"
      }
    },
    {
      "cell_type": "markdown",
      "source": [
        "#### Handsoff and Context Variables Update\n",
        "\n",
        "An Agent can hand off to another Agent by returning it in a function, and update the context variables by returning a more complete `Result` object."
      ],
      "metadata": {
        "id": "4jQQSBoNKf0r"
      }
    },
    {
      "cell_type": "markdown",
      "source": [
        "**Handsoff to another agent**"
      ],
      "metadata": {
        "id": "_QOo5Q06K87Q"
      }
    },
    {
      "cell_type": "code",
      "source": [
        "sales_agent = Agent(name=\"Sales Agent\")\n",
        "\n",
        "def transfer_to_sales():\n",
        "   return sales_agent\n",
        "\n",
        "agent = Agent(functions=[transfer_to_sales])\n",
        "\n",
        "response = swarm.run(agent, [{\"role\":\"user\", \"content\":\"Transfer me to sales.\"}])\n",
        "print(response.agent.name)"
      ],
      "metadata": {
        "id": "8ntiHb_vKDak",
        "colab": {
          "base_uri": "https://localhost:8080/"
        },
        "outputId": "44222ea8-2fbe-40a9-e4ac-a1f64d00a533"
      },
      "execution_count": 56,
      "outputs": [
        {
          "output_type": "stream",
          "name": "stdout",
          "text": [
            "Sales Agent\n"
          ]
        }
      ]
    },
    {
      "cell_type": "code",
      "source": [
        "response.messages"
      ],
      "metadata": {
        "colab": {
          "base_uri": "https://localhost:8080/"
        },
        "id": "cBXj5-idyZtq",
        "outputId": "4be40b85-6869-49bb-ad75-56f397b8f58e"
      },
      "execution_count": 57,
      "outputs": [
        {
          "output_type": "execute_result",
          "data": {
            "text/plain": [
              "[{'content': None,\n",
              "  'refusal': None,\n",
              "  'role': 'assistant',\n",
              "  'audio': None,\n",
              "  'function_call': None,\n",
              "  'tool_calls': [{'id': 'call_XnGD4raVQZz9CqWHyO3QF7FP',\n",
              "    'function': {'arguments': '{}', 'name': 'transfer_to_sales'},\n",
              "    'type': 'function'}],\n",
              "  'sender': 'Agent'},\n",
              " {'role': 'tool',\n",
              "  'tool_call_id': 'call_XnGD4raVQZz9CqWHyO3QF7FP',\n",
              "  'tool_name': 'transfer_to_sales',\n",
              "  'content': '{\"assistant\": \"Sales Agent\"}'},\n",
              " {'content': \"I've transferred you to the sales department. How can they assist you today?\",\n",
              "  'refusal': None,\n",
              "  'role': 'assistant',\n",
              "  'audio': None,\n",
              "  'function_call': None,\n",
              "  'tool_calls': None,\n",
              "  'sender': 'Sales Agent'}]"
            ]
          },
          "metadata": {},
          "execution_count": 57
        }
      ]
    },
    {
      "cell_type": "markdown",
      "source": [
        "**Update the context variables**"
      ],
      "metadata": {
        "id": "LxCxle6QLCNy"
      }
    },
    {
      "cell_type": "code",
      "source": [
        "sales_agent = Agent(name=\"Sales Agent\")\n",
        "\n",
        "def talk_to_sales():\n",
        "   print(\"Hello, World!\")\n",
        "   return Result(\n",
        "       value=\"Done\",\n",
        "       agent=sales_agent,\n",
        "       context_variables={\"department\": \"sales\"}\n",
        "   )\n",
        "\n",
        "agent = Agent(functions=[talk_to_sales])\n",
        "\n",
        "response = swarm.run(\n",
        "   agent=agent,\n",
        "   messages=[{\"role\": \"user\", \"content\": \"Transfer me to sales\"}],\n",
        "   context_variables={\"user_name\": \"John\"}\n",
        ")\n",
        "print(response.agent.name)\n",
        "print(response.context_variables)"
      ],
      "metadata": {
        "id": "o3rHE8MgKE1w",
        "colab": {
          "base_uri": "https://localhost:8080/",
          "height": 392
        },
        "outputId": "4c944821-d998-4ac3-e37c-e729ce5e6dbe"
      },
      "execution_count": 58,
      "outputs": [
        {
          "output_type": "stream",
          "name": "stdout",
          "text": [
            "Hello, World!\n"
          ]
        },
        {
          "output_type": "error",
          "ename": "NameError",
          "evalue": "name 'Result' is not defined",
          "traceback": [
            "\u001b[0;31m---------------------------------------------------------------------------\u001b[0m",
            "\u001b[0;31mNameError\u001b[0m                                 Traceback (most recent call last)",
            "\u001b[0;32m<ipython-input-58-e9386d3af05d>\u001b[0m in \u001b[0;36m<cell line: 13>\u001b[0;34m()\u001b[0m\n\u001b[1;32m     11\u001b[0m \u001b[0magent\u001b[0m \u001b[0;34m=\u001b[0m \u001b[0mAgent\u001b[0m\u001b[0;34m(\u001b[0m\u001b[0mfunctions\u001b[0m\u001b[0;34m=\u001b[0m\u001b[0;34m[\u001b[0m\u001b[0mtalk_to_sales\u001b[0m\u001b[0;34m]\u001b[0m\u001b[0;34m)\u001b[0m\u001b[0;34m\u001b[0m\u001b[0;34m\u001b[0m\u001b[0m\n\u001b[1;32m     12\u001b[0m \u001b[0;34m\u001b[0m\u001b[0m\n\u001b[0;32m---> 13\u001b[0;31m response = swarm.run(\n\u001b[0m\u001b[1;32m     14\u001b[0m    \u001b[0magent\u001b[0m\u001b[0;34m=\u001b[0m\u001b[0magent\u001b[0m\u001b[0;34m,\u001b[0m\u001b[0;34m\u001b[0m\u001b[0;34m\u001b[0m\u001b[0m\n\u001b[1;32m     15\u001b[0m    \u001b[0mmessages\u001b[0m\u001b[0;34m=\u001b[0m\u001b[0;34m[\u001b[0m\u001b[0;34m{\u001b[0m\u001b[0;34m\"role\"\u001b[0m\u001b[0;34m:\u001b[0m \u001b[0;34m\"user\"\u001b[0m\u001b[0;34m,\u001b[0m \u001b[0;34m\"content\"\u001b[0m\u001b[0;34m:\u001b[0m \u001b[0;34m\"Transfer me to sales\"\u001b[0m\u001b[0;34m}\u001b[0m\u001b[0;34m]\u001b[0m\u001b[0;34m,\u001b[0m\u001b[0;34m\u001b[0m\u001b[0;34m\u001b[0m\u001b[0m\n",
            "\u001b[0;32m/usr/local/lib/python3.10/dist-packages/swarm/core.py\u001b[0m in \u001b[0;36mrun\u001b[0;34m(self, agent, messages, context_variables, model_override, stream, debug, max_turns, execute_tools)\u001b[0m\n\u001b[1;32m    278\u001b[0m \u001b[0;34m\u001b[0m\u001b[0m\n\u001b[1;32m    279\u001b[0m             \u001b[0;31m# handle function calls, updating context_variables, and switching agents\u001b[0m\u001b[0;34m\u001b[0m\u001b[0;34m\u001b[0m\u001b[0m\n\u001b[0;32m--> 280\u001b[0;31m             partial_response = self.handle_tool_calls(\n\u001b[0m\u001b[1;32m    281\u001b[0m                 \u001b[0mmessage\u001b[0m\u001b[0;34m.\u001b[0m\u001b[0mtool_calls\u001b[0m\u001b[0;34m,\u001b[0m \u001b[0mactive_agent\u001b[0m\u001b[0;34m.\u001b[0m\u001b[0mfunctions\u001b[0m\u001b[0;34m,\u001b[0m \u001b[0mcontext_variables\u001b[0m\u001b[0;34m,\u001b[0m \u001b[0mdebug\u001b[0m\u001b[0;34m\u001b[0m\u001b[0;34m\u001b[0m\u001b[0m\n\u001b[1;32m    282\u001b[0m             )\n",
            "\u001b[0;32m/usr/local/lib/python3.10/dist-packages/swarm/core.py\u001b[0m in \u001b[0;36mhandle_tool_calls\u001b[0;34m(self, tool_calls, functions, context_variables, debug)\u001b[0m\n\u001b[1;32m    120\u001b[0m             \u001b[0;32mif\u001b[0m \u001b[0m__CTX_VARS_NAME__\u001b[0m \u001b[0;32min\u001b[0m \u001b[0mfunc\u001b[0m\u001b[0;34m.\u001b[0m\u001b[0m__code__\u001b[0m\u001b[0;34m.\u001b[0m\u001b[0mco_varnames\u001b[0m\u001b[0;34m:\u001b[0m\u001b[0;34m\u001b[0m\u001b[0;34m\u001b[0m\u001b[0m\n\u001b[1;32m    121\u001b[0m                 \u001b[0margs\u001b[0m\u001b[0;34m[\u001b[0m\u001b[0m__CTX_VARS_NAME__\u001b[0m\u001b[0;34m]\u001b[0m \u001b[0;34m=\u001b[0m \u001b[0mcontext_variables\u001b[0m\u001b[0;34m\u001b[0m\u001b[0;34m\u001b[0m\u001b[0m\n\u001b[0;32m--> 122\u001b[0;31m             \u001b[0mraw_result\u001b[0m \u001b[0;34m=\u001b[0m \u001b[0mfunction_map\u001b[0m\u001b[0;34m[\u001b[0m\u001b[0mname\u001b[0m\u001b[0;34m]\u001b[0m\u001b[0;34m(\u001b[0m\u001b[0;34m**\u001b[0m\u001b[0margs\u001b[0m\u001b[0;34m)\u001b[0m\u001b[0;34m\u001b[0m\u001b[0;34m\u001b[0m\u001b[0m\n\u001b[0m\u001b[1;32m    123\u001b[0m \u001b[0;34m\u001b[0m\u001b[0m\n\u001b[1;32m    124\u001b[0m             \u001b[0mresult\u001b[0m\u001b[0;34m:\u001b[0m \u001b[0mResult\u001b[0m \u001b[0;34m=\u001b[0m \u001b[0mself\u001b[0m\u001b[0;34m.\u001b[0m\u001b[0mhandle_function_result\u001b[0m\u001b[0;34m(\u001b[0m\u001b[0mraw_result\u001b[0m\u001b[0;34m,\u001b[0m \u001b[0mdebug\u001b[0m\u001b[0;34m)\u001b[0m\u001b[0;34m\u001b[0m\u001b[0;34m\u001b[0m\u001b[0m\n",
            "\u001b[0;32m<ipython-input-58-e9386d3af05d>\u001b[0m in \u001b[0;36mtalk_to_sales\u001b[0;34m()\u001b[0m\n\u001b[1;32m      3\u001b[0m \u001b[0;32mdef\u001b[0m \u001b[0mtalk_to_sales\u001b[0m\u001b[0;34m(\u001b[0m\u001b[0;34m)\u001b[0m\u001b[0;34m:\u001b[0m\u001b[0;34m\u001b[0m\u001b[0;34m\u001b[0m\u001b[0m\n\u001b[1;32m      4\u001b[0m    \u001b[0mprint\u001b[0m\u001b[0;34m(\u001b[0m\u001b[0;34m\"Hello, World!\"\u001b[0m\u001b[0;34m)\u001b[0m\u001b[0;34m\u001b[0m\u001b[0;34m\u001b[0m\u001b[0m\n\u001b[0;32m----> 5\u001b[0;31m    return Result(\n\u001b[0m\u001b[1;32m      6\u001b[0m        \u001b[0mvalue\u001b[0m\u001b[0;34m=\u001b[0m\u001b[0;34m\"Done\"\u001b[0m\u001b[0;34m,\u001b[0m\u001b[0;34m\u001b[0m\u001b[0;34m\u001b[0m\u001b[0m\n\u001b[1;32m      7\u001b[0m        \u001b[0magent\u001b[0m\u001b[0;34m=\u001b[0m\u001b[0msales_agent\u001b[0m\u001b[0;34m,\u001b[0m\u001b[0;34m\u001b[0m\u001b[0;34m\u001b[0m\u001b[0m\n",
            "\u001b[0;31mNameError\u001b[0m: name 'Result' is not defined"
          ]
        }
      ]
    }
  ]
}